{
 "cells": [
  {
   "cell_type": "markdown",
   "id": "c24afe79",
   "metadata": {},
   "source": [
    "# Create interpolator for datasets"
   ]
  },
  {
   "cell_type": "code",
   "execution_count": null,
   "id": "6e87e8f6",
   "metadata": {
    "tags": []
   },
   "outputs": [],
   "source": [
    "import seaduck as sd\n",
    "import numpy as np\n",
    "import lmdb\n",
    "import dask.array as da\n",
    "\n",
    "import oceanspy as ospy\n",
    "from precalc.gen_interp import store_interpolator\n",
    "from precalc.grid_subsample import generate_subocedata"
   ]
  },
  {
   "cell_type": "markdown",
   "id": "59c54b2e",
   "metadata": {},
   "source": [
    "So far, we only support interpolator for the LLC4320 dataset. So, first, we load the dataset with the help from oceanspy."
   ]
  },
  {
   "cell_type": "code",
   "execution_count": null,
   "id": "53e94229",
   "metadata": {
    "tags": []
   },
   "outputs": [],
   "source": [
    "# llc = ospy.open_oceandataset.from_catalog('ECCO')._ds\n",
    "llc = ospy.open_oceandataset.from_catalog(\"LLC4320\")._ds"
   ]
  },
  {
   "cell_type": "markdown",
   "id": "8d5f2a19",
   "metadata": {},
   "source": [
    "Now, create the seaduck ocedata object, which is the key for the interpolation. We also need to store the size of the grid into memory for vorticity calculation."
   ]
  },
  {
   "cell_type": "code",
   "execution_count": null,
   "id": "324c3715",
   "metadata": {},
   "outputs": [],
   "source": [
    "oce = sd.OceData(llc)\n",
    "oce[\"dXG\"] = np.array(oce[\"dXG\"])\n",
    "oce[\"dYG\"] = np.array(oce[\"dYG\"])"
   ]
  },
  {
   "cell_type": "markdown",
   "id": "99628aff",
   "metadata": {},
   "source": [
    "Define how many levels you want to zoom in. Each level will twice as high resolution. Also define, where you want to put the viewer."
   ]
  },
  {
   "cell_type": "code",
   "execution_count": null,
   "id": "d8739cd7",
   "metadata": {
    "tags": []
   },
   "outputs": [],
   "source": [
    "zooms = np.arange(7)\n",
    "\n",
    "lmdb_path = \"/home/idies/workspace/Temporary/wenrui/scratch/second_interpolator.lmdb\"\n",
    "env = lmdb.open(lmdb_path, readonly=False, lock=False, map_size=200000000000)"
   ]
  },
  {
   "cell_type": "markdown",
   "id": "f6ae07d2",
   "metadata": {},
   "source": [
    "For coarse levels, using a fraction of the grid points look exactly the same and it saves some time. That's why we need this subsampling step."
   ]
  },
  {
   "cell_type": "code",
   "execution_count": null,
   "id": "a50385c0",
   "metadata": {
    "tags": []
   },
   "outputs": [],
   "source": [
    "subocedata, unique_grain, inverse_grain = generate_subocedata(zooms, oce)"
   ]
  },
  {
   "cell_type": "markdown",
   "id": "36078dc3",
   "metadata": {},
   "source": [
    "The masking is created by a snapshot of the scalar and velocity data. Variables like HFacC serve the same purpose."
   ]
  },
  {
   "cell_type": "code",
   "execution_count": null,
   "id": "9e1bd10d",
   "metadata": {
    "tags": []
   },
   "outputs": [],
   "source": [
    "# s = np.array(llc['SALT'][0,0])\n",
    "# uv = np.array(da.concatenate([llc.UVELMASS[0,0].data[np.newaxis],llc.VVELMASS[0,0].data[np.newaxis]],axis = 0))\n",
    "s = np.array(llc[\"S\"][0, 0])\n",
    "uv = np.array(\n",
    "    da.concatenate([llc.U[0, 0].data[np.newaxis], llc.V[0, 0].data[np.newaxis]], axis=0)\n",
    ")"
   ]
  },
  {
   "cell_type": "markdown",
   "id": "37cf19ce",
   "metadata": {},
   "source": [
    "And this is how you create the interpolator. Go ahead and have all the fun with it!"
   ]
  },
  {
   "cell_type": "code",
   "execution_count": null,
   "id": "f82c03d8",
   "metadata": {
    "tags": []
   },
   "outputs": [],
   "source": [
    "store_interpolator(\n",
    "    env, zooms, subocedata, unique_grain, inverse_grain, exmp_vel=uv, exmp_scl=s\n",
    ")"
   ]
  }
 ],
 "metadata": {
  "kernelspec": {
   "display_name": "Oceanography",
   "language": "python",
   "name": "oceanography"
  },
  "language_info": {
   "codemirror_mode": {
    "name": "ipython",
    "version": 3
   },
   "file_extension": ".py",
   "mimetype": "text/x-python",
   "name": "python",
   "nbconvert_exporter": "python",
   "pygments_lexer": "ipython3",
   "version": "3.10.12"
  }
 },
 "nbformat": 4,
 "nbformat_minor": 5
}
